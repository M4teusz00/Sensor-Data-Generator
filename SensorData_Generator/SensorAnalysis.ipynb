{
 "cells": [
  {
   "cell_type": "code",
   "execution_count": 226,
   "metadata": {},
   "outputs": [],
   "source": [
    "from pymongo import MongoClient\n",
    "\n",
    "# Definiowanie adresu i portu do połączenia z MongoDB\n",
    "mongo_address = \"mongodb://localhost:27017/\"  # Adres serwera MongoDB\n",
    "\n",
    "# Definiowanie nazw bazy danych i kolekcji\n",
    "database_name = \"SensorData\"   # Nazwa bazy danych\n",
    "collection_name = \"Sensors\"    # Nazwa kolekcji\n",
    "\n",
    "# Połączenie z MongoDB oraz uzyskanie dostępu do odpowiedniej bazy danych i kolekcji\n",
    "client = MongoClient(mongo_address)  # Nawiązywanie połączenia z MongoDB\n",
    "db = client[database_name]           # Uzyskiwanie dostępu do bazy danych o nazwie \"SensorData\"\n",
    "collection = db[collection_name]     # Uzyskiwanie dostępu do kolekcji o nazwie \"Sensor1\"\n"
   ]
  },
  {
   "cell_type": "code",
   "execution_count": 228,
   "metadata": {},
   "outputs": [
    {
     "name": "stdout",
     "output_type": "stream",
     "text": [
      "Liczba dokumentów dla każdego prefiksu:\n",
      "Prefiks: P1_ | Liczba dokumentów: 3000\n",
      "Prefiks: P2_ | Liczba dokumentów: 3500\n",
      "Prefiks: P3_ | Liczba dokumentów: 4000\n"
     ]
    }
   ],
   "source": [
    "# Agregacja w celu policzenia liczby dokumentów dla każdego prefiksu\n",
    "pipeline = [\n",
    "    {\n",
    "        \"$project\": {\n",
    "            \"prefix\": {\"$substr\": [\"$id_czujnika\", 0, 3]}  # Wyodrębnienie prefiksu z id_czujnika\n",
    "        }\n",
    "    },\n",
    "    {\n",
    "        \"$sort\": {\"_id.prefix\": -1}  # Sortowanie najpierw według prefiksu, potem według liczby wystąpień\n",
    "    },\n",
    "    {\n",
    "        \"$group\": {\n",
    "            \"_id\": \"$prefix\",  # Grupowanie według prefiksu\n",
    "            \"count\": {\"$sum\": 1}  # Liczenie liczby dokumentów dla każdego prefiksu\n",
    "        }\n",
    "    }\n",
    "]\n",
    "\n",
    "# Wykonanie agregacji\n",
    "prefix_counts = collection.aggregate(pipeline)\n",
    "\n",
    "# Wyświetlenie wyników\n",
    "print(\"Liczba dokumentów dla każdego prefiksu:\")\n",
    "for record in prefix_counts:\n",
    "    prefix = record[\"_id\"]\n",
    "    count = record[\"count\"]\n",
    "    print(f\"Prefiks: {prefix} | Liczba dokumentów: {count}\")"
   ]
  }
 ],
 "metadata": {
  "kernelspec": {
   "display_name": ".venv",
   "language": "python",
   "name": "python3"
  },
  "language_info": {
   "codemirror_mode": {
    "name": "ipython",
    "version": 3
   },
   "file_extension": ".py",
   "mimetype": "text/x-python",
   "name": "python",
   "nbconvert_exporter": "python",
   "pygments_lexer": "ipython3",
   "version": "3.11.4"
  }
 },
 "nbformat": 4,
 "nbformat_minor": 2
}
